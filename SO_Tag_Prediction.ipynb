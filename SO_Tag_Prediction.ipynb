{
 "cells": [
  {
   "cell_type": "code",
   "execution_count": 6,
   "id": "041a91ed",
   "metadata": {},
   "outputs": [],
   "source": [
    "import warnings\n",
    "warnings.filterwarnings(\"ignore\")\n",
    "\n",
    "from IPython.core.interactiveshell import InteractiveShell\n",
    "InteractiveShell.ast_node_interactivity = \"all\"\n",
    "\n",
    "import pandas as pd\n",
    "import numpy as np\n",
    "import matplotlib.pyplot as plt\n",
    "%matplotlib inline\n",
    "\n",
    "import ast\n"
   ]
  },
  {
   "cell_type": "code",
   "execution_count": 30,
   "id": "32f8c893",
   "metadata": {},
   "outputs": [],
   "source": [
    "from sklearn.model_selection import train_test_split\n",
    "from sklearn.linear_model import LogisticRegression\n",
    "from sklearn.feature_extraction.text import TfidfVectorizer\n",
    "from sklearn.preprocessing import MultiLabelBinarizer #one hot encoding\n",
    "from sklearn.multiclass import OneVsRestClassifier\n",
    "\n",
    "from sklearn.svm import LinearSVC"
   ]
  },
  {
   "cell_type": "code",
   "execution_count": 10,
   "id": "49fa96f4",
   "metadata": {},
   "outputs": [],
   "source": [
    "data = pd.read_csv(\"https://raw.githubusercontent.com/laxmimerit/All-CSV-ML-Data-Files-Download/master/stackoverflow.csv\", index_col = 0)"
   ]
  },
  {
   "cell_type": "code",
   "execution_count": 11,
   "id": "593f78f2",
   "metadata": {},
   "outputs": [
    {
     "data": {
      "text/html": [
       "<div>\n",
       "<style scoped>\n",
       "    .dataframe tbody tr th:only-of-type {\n",
       "        vertical-align: middle;\n",
       "    }\n",
       "\n",
       "    .dataframe tbody tr th {\n",
       "        vertical-align: top;\n",
       "    }\n",
       "\n",
       "    .dataframe thead th {\n",
       "        text-align: right;\n",
       "    }\n",
       "</style>\n",
       "<table border=\"1\" class=\"dataframe\">\n",
       "  <thead>\n",
       "    <tr style=\"text-align: right;\">\n",
       "      <th></th>\n",
       "      <th>Text</th>\n",
       "      <th>Tags</th>\n",
       "    </tr>\n",
       "  </thead>\n",
       "  <tbody>\n",
       "    <tr>\n",
       "      <th>2</th>\n",
       "      <td>aspnet site maps has anyone got experience cre...</td>\n",
       "      <td>['sql', 'asp.net']</td>\n",
       "    </tr>\n",
       "    <tr>\n",
       "      <th>4</th>\n",
       "      <td>adding scripting functionality to net applicat...</td>\n",
       "      <td>['c#', '.net']</td>\n",
       "    </tr>\n",
       "    <tr>\n",
       "      <th>5</th>\n",
       "      <td>should i use nested classes in this case i am ...</td>\n",
       "      <td>['c++']</td>\n",
       "    </tr>\n",
       "    <tr>\n",
       "      <th>6</th>\n",
       "      <td>homegrown consumption of web services i have b...</td>\n",
       "      <td>['.net']</td>\n",
       "    </tr>\n",
       "    <tr>\n",
       "      <th>8</th>\n",
       "      <td>automatically update version number i would li...</td>\n",
       "      <td>['c#']</td>\n",
       "    </tr>\n",
       "  </tbody>\n",
       "</table>\n",
       "</div>"
      ],
      "text/plain": [
       "                                                Text                Tags\n",
       "2  aspnet site maps has anyone got experience cre...  ['sql', 'asp.net']\n",
       "4  adding scripting functionality to net applicat...      ['c#', '.net']\n",
       "5  should i use nested classes in this case i am ...             ['c++']\n",
       "6  homegrown consumption of web services i have b...            ['.net']\n",
       "8  automatically update version number i would li...              ['c#']"
      ]
     },
     "execution_count": 11,
     "metadata": {},
     "output_type": "execute_result"
    }
   ],
   "source": [
    "data.head()"
   ]
  },
  {
   "cell_type": "code",
   "execution_count": 14,
   "id": "9c3f396f",
   "metadata": {},
   "outputs": [
    {
     "data": {
      "text/plain": [
       "\"['sql', 'asp.net']\""
      ]
     },
     "execution_count": 14,
     "metadata": {},
     "output_type": "execute_result"
    },
    {
     "data": {
      "text/plain": [
       "['sql', 'asp.net']"
      ]
     },
     "execution_count": 14,
     "metadata": {},
     "output_type": "execute_result"
    }
   ],
   "source": [
    "data.iloc[0,1]\n",
    "ast.literal_eval(data.iloc[0,1])"
   ]
  },
  {
   "cell_type": "code",
   "execution_count": 16,
   "id": "03c0ea72",
   "metadata": {},
   "outputs": [
    {
     "data": {
      "text/plain": [
       "['sql', 'asp.net']"
      ]
     },
     "execution_count": 16,
     "metadata": {},
     "output_type": "execute_result"
    }
   ],
   "source": [
    "#Convert the string to list\n",
    "data[\"Tags\"]=data[\"Tags\"].apply(lambda x: ast.literal_eval(x))\n",
    "data.iloc[0,1]"
   ]
  },
  {
   "cell_type": "code",
   "execution_count": 17,
   "id": "3038b01e",
   "metadata": {},
   "outputs": [
    {
     "data": {
      "text/plain": [
       "array([[0, 0, 1, ..., 0, 0, 1],\n",
       "       [1, 0, 0, ..., 0, 0, 0],\n",
       "       [0, 0, 0, ..., 0, 0, 0],\n",
       "       ...,\n",
       "       [0, 0, 0, ..., 0, 0, 0],\n",
       "       [0, 0, 0, ..., 0, 0, 0],\n",
       "       [0, 0, 0, ..., 0, 0, 0]])"
      ]
     },
     "execution_count": 17,
     "metadata": {},
     "output_type": "execute_result"
    },
    {
     "data": {
      "text/plain": [
       "array(['.net', 'android', 'asp.net', 'c', 'c#', 'c++', 'css', 'html',\n",
       "       'ios', 'iphone', 'java', 'javascript', 'jquery', 'mysql',\n",
       "       'objective-c', 'php', 'python', 'ruby', 'ruby-on-rails', 'sql'],\n",
       "      dtype=object)"
      ]
     },
     "execution_count": 17,
     "metadata": {},
     "output_type": "execute_result"
    }
   ],
   "source": [
    "#One hot encoding\n",
    "mb = MultiLabelBinarizer()\n",
    "y = mb.fit_transform(data[\"Tags\"])\n",
    "\n",
    "y\n",
    "cls = mb.classes_\n",
    "cls"
   ]
  },
  {
   "cell_type": "code",
   "execution_count": 19,
   "id": "668e54ab",
   "metadata": {},
   "outputs": [],
   "source": [
    "#data is already cleaned up with basic text preprocessing \n",
    "tfidf = TfidfVectorizer(ngram_range=(1,3), analyzer=\"word\",max_features=1000, stop_words=\"english\")\n",
    "X = tfidf.fit_transform(data[\"Text\"])\n",
    "\n",
    "# tfidf.vocabulary_"
   ]
  },
  {
   "cell_type": "code",
   "execution_count": 20,
   "id": "6cfa844e",
   "metadata": {},
   "outputs": [
    {
     "data": {
      "text/plain": [
       "(48976, 1000)"
      ]
     },
     "execution_count": 20,
     "metadata": {},
     "output_type": "execute_result"
    },
    {
     "data": {
      "text/plain": [
       "(48976, 20)"
      ]
     },
     "execution_count": 20,
     "metadata": {},
     "output_type": "execute_result"
    }
   ],
   "source": [
    "X.shape\n",
    "y.shape"
   ]
  },
  {
   "cell_type": "code",
   "execution_count": 21,
   "id": "5d317f95",
   "metadata": {},
   "outputs": [
    {
     "data": {
      "text/plain": [
       "(39180, 1000)"
      ]
     },
     "execution_count": 21,
     "metadata": {},
     "output_type": "execute_result"
    },
    {
     "data": {
      "text/plain": [
       "(9796, 1000)"
      ]
     },
     "execution_count": 21,
     "metadata": {},
     "output_type": "execute_result"
    },
    {
     "data": {
      "text/plain": [
       "(39180, 20)"
      ]
     },
     "execution_count": 21,
     "metadata": {},
     "output_type": "execute_result"
    },
    {
     "data": {
      "text/plain": [
       "(9796, 20)"
      ]
     },
     "execution_count": 21,
     "metadata": {},
     "output_type": "execute_result"
    }
   ],
   "source": [
    "#Train test split\n",
    "\n",
    "X_train,X_test,y_train,y_test= train_test_split(X,y,random_state=0,test_size=0.2)\n",
    "X_train.shape\n",
    "X_test.shape\n",
    "y_train.shape\n",
    "y_test.shape"
   ]
  },
  {
   "cell_type": "code",
   "execution_count": 22,
   "id": "8bd1f03b",
   "metadata": {},
   "outputs": [],
   "source": [
    "#Jaccard score = (A intersection B)/(A Union B)  Metrics for Multilabel Classification\n",
    "def j_score(y_test,y_pred):\n",
    "    js = np.minimum(y_test,y_pred).sum(axis=1)/np.maximum(y_test,y_pred).sum(axis=1)\n",
    "    return js.mean()*100\n"
   ]
  },
  {
   "cell_type": "code",
   "execution_count": 26,
   "id": "999ad718",
   "metadata": {},
   "outputs": [
    {
     "data": {
      "text/plain": [
       "OneVsRestClassifier(estimator=LogisticRegression())"
      ]
     },
     "execution_count": 26,
     "metadata": {},
     "output_type": "execute_result"
    }
   ],
   "source": [
    "#Model Training - Logreg\n",
    "lr = LogisticRegression(solver=\"lbfgs\")\n",
    "clf = OneVsRestClassifier(lr)\n",
    "clf.fit(X_train,y_train)"
   ]
  },
  {
   "cell_type": "code",
   "execution_count": 28,
   "id": "4a17336f",
   "metadata": {},
   "outputs": [],
   "source": [
    "y_pred = clf.predict(X_test)"
   ]
  },
  {
   "cell_type": "code",
   "execution_count": 29,
   "id": "c6638a05",
   "metadata": {},
   "outputs": [
    {
     "data": {
      "text/plain": [
       "49.12668436096366"
      ]
     },
     "execution_count": 29,
     "metadata": {},
     "output_type": "execute_result"
    }
   ],
   "source": [
    "j_score(y_test,y_pred)"
   ]
  },
  {
   "cell_type": "code",
   "execution_count": 32,
   "id": "f6183aa9",
   "metadata": {},
   "outputs": [
    {
     "data": {
      "text/plain": [
       "OneVsRestClassifier(estimator=LinearSVC(C=1.5, dual=False, penalty='l1'))"
      ]
     },
     "execution_count": 32,
     "metadata": {},
     "output_type": "execute_result"
    },
    {
     "data": {
      "text/plain": [
       "53.3787600381108"
      ]
     },
     "execution_count": 32,
     "metadata": {},
     "output_type": "execute_result"
    }
   ],
   "source": [
    "#Model Training with SVM\n",
    "svm = LinearSVC(penalty=\"l1\",C=1.5,dual =False)\n",
    "clf = OneVsRestClassifier(svm)\n",
    "clf.fit(X_train,y_train)\n",
    "y_pred = clf.predict(X_test)\n",
    "j_score(y_test,y_pred)"
   ]
  },
  {
   "cell_type": "code",
   "execution_count": 48,
   "id": "a5b0af30",
   "metadata": {},
   "outputs": [
    {
     "data": {
      "text/plain": [
       "array([[0, 0, 0, 0, 0, 0, 0, 0, 0, 0, 1, 0, 0, 0, 0, 0, 1, 0, 0, 0]])"
      ]
     },
     "execution_count": 48,
     "metadata": {},
     "output_type": "execute_result"
    }
   ],
   "source": [
    "#testing\n",
    "\n",
    "inp = [\"python pip installation missing can I use C# or java for the same?\"]\n",
    "inp_tfidf = tfidf.transform(inp)\n",
    "clf.predict(inp_tfidf)"
   ]
  },
  {
   "cell_type": "code",
   "execution_count": 49,
   "id": "668803a2",
   "metadata": {},
   "outputs": [
    {
     "data": {
      "text/plain": [
       "[('java', 'python')]"
      ]
     },
     "execution_count": 49,
     "metadata": {},
     "output_type": "execute_result"
    }
   ],
   "source": [
    "mb.inverse_transform(clf.predict(inp_tfidf))"
   ]
  },
  {
   "cell_type": "code",
   "execution_count": 52,
   "id": "89eb9e97",
   "metadata": {},
   "outputs": [],
   "source": [
    "#Model Save\n",
    "\n",
    "import pickle\n",
    "\n",
    "pickle.dump(clf,open(\"model.pkl\",\"wb\"))\n",
    "pickle.dump(tfidf,open(\"tfidf.pkl\",\"wb\"))"
   ]
  },
  {
   "cell_type": "code",
   "execution_count": null,
   "id": "644ddb9d",
   "metadata": {},
   "outputs": [],
   "source": [
    "    "
   ]
  }
 ],
 "metadata": {
  "kernelspec": {
   "display_name": "Python 3",
   "language": "python",
   "name": "python3"
  },
  "language_info": {
   "codemirror_mode": {
    "name": "ipython",
    "version": 3
   },
   "file_extension": ".py",
   "mimetype": "text/x-python",
   "name": "python",
   "nbconvert_exporter": "python",
   "pygments_lexer": "ipython3",
   "version": "3.7.4"
  }
 },
 "nbformat": 4,
 "nbformat_minor": 5
}
